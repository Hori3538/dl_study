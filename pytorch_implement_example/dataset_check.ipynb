{
  "cells": [
    {
      "cell_type": "markdown",
      "metadata": {
        "id": "view-in-github",
        "colab_type": "text"
      },
      "source": [
        "<a href=\"https://colab.research.google.com/github/Hori3538/dl_study/blob/master/pytorch_implement_example/dataset_check.ipynb\" target=\"_parent\"><img src=\"https://colab.research.google.com/assets/colab-badge.svg\" alt=\"Open In Colab\"/></a>"
      ]
    },
    {
      "cell_type": "code",
      "execution_count": null,
      "id": "70dc6d80",
      "metadata": {
        "id": "70dc6d80"
      },
      "outputs": [],
      "source": [
        "import matplotlib.pyplot as plt\n",
        "import numpy as np"
      ]
    },
    {
      "cell_type": "code",
      "execution_count": null,
      "id": "20c70ee2",
      "metadata": {
        "id": "20c70ee2"
      },
      "outputs": [],
      "source": [
        "from dataset import CifarDataset"
      ]
    },
    {
      "cell_type": "code",
      "execution_count": null,
      "id": "b33ad140",
      "metadata": {
        "id": "b33ad140"
      },
      "outputs": [],
      "source": [
        "train_dataset = CifarDataset(\"train\")\n",
        "valid_dataset = CifarDataset(\"valid\")"
      ]
    },
    {
      "cell_type": "code",
      "execution_count": null,
      "id": "5551a90e",
      "metadata": {
        "id": "5551a90e",
        "outputId": "ca20343e-4195-4c64-a8c1-ad24e50470c5"
      },
      "outputs": [
        {
          "data": {
            "text/plain": [
              "tensor([[[-0.3750, -0.0622,  0.0036,  ..., -0.0773, -0.1585, -0.3587],\n",
              "         [-0.3056, -0.0327,  0.0739,  ..., -0.1233, -0.2688, -0.4889],\n",
              "         [-0.1978,  0.0070,  0.1373,  ..., -0.1429, -0.3575, -0.5787],\n",
              "         ...,\n",
              "         [ 0.1877,  0.3253,  0.4147,  ...,  0.0386, -0.1372, -0.2560],\n",
              "         [ 0.1729,  0.2519,  0.2872,  ...,  0.0202, -0.0690, -0.0268],\n",
              "         [ 0.1642,  0.1767,  0.1706,  ..., -0.0048, -0.0109,  0.1642]],\n",
              "\n",
              "        [[-0.9379, -0.7628, -0.7291,  ..., -0.7092, -0.7551, -0.9052],\n",
              "         [-0.8685, -0.7266, -0.6607,  ..., -0.7412, -0.8547, -1.0181],\n",
              "         [-0.7643, -0.6791, -0.5976,  ..., -0.7542, -0.9383, -1.0998],\n",
              "         ...,\n",
              "         [-0.5585, -0.4319, -0.3259,  ...,  0.1270, -0.0828, -0.3037],\n",
              "         [-0.5851, -0.4944, -0.4308,  ..., -0.1325, -0.3050, -0.3594],\n",
              "         [-0.6111, -0.5736, -0.5422,  ..., -0.3673, -0.4584, -0.3333]],\n",
              "\n",
              "        [[-1.1795, -1.1217, -1.1316,  ..., -1.0798, -1.1173, -1.2097],\n",
              "         [-1.1554, -1.1222, -1.0908,  ..., -1.0790, -1.1691, -1.2738],\n",
              "         [-1.1144, -1.1181, -1.0568,  ..., -1.0678, -1.2059, -1.3138],\n",
              "         ...,\n",
              "         [-0.9881, -0.8636, -0.7566,  ..., -1.1754, -1.2927, -1.3963],\n",
              "         [-1.0602, -0.9224, -0.8736,  ..., -1.1291, -1.1730, -1.1889],\n",
              "         [-1.1644, -1.0143, -0.9959,  ..., -1.1041, -1.0864, -1.0287]]])"
            ]
          },
          "execution_count": 8,
          "metadata": {},
          "output_type": "execute_result"
        }
      ],
      "source": [
        "train_dataset[0][0]"
      ]
    },
    {
      "cell_type": "code",
      "execution_count": null,
      "id": "d59d00e4",
      "metadata": {
        "id": "d59d00e4",
        "outputId": "bc1138aa-32f4-477d-e222-b03c0a958f62"
      },
      "outputs": [
        {
          "name": "stderr",
          "output_type": "stream",
          "text": [
            "Clipping input data to the valid range for imshow with RGB data ([0..1] for floats or [0..255] for integers).\n"
          ]
        },
        {
          "data": {
            "text/plain": [
              "<matplotlib.image.AxesImage at 0x7f43ee673ee0>"
            ]
          },
          "execution_count": 16,
          "metadata": {},
          "output_type": "execute_result"
        },
        {
          "data": {
            "image/png": "[encoded data removed]",
            "text/plain": [
              "<Figure size 432x288 with 1 Axes>"
            ]
          },
          "metadata": {
            "needs_background": "light"
          },
          "output_type": "display_data"
        }
      ],
      "source": [
        "plt.imshow(np.rollaxis(train_dataset[0][0].numpy(), 0, 3))"
      ]
    },
    {
      "cell_type": "code",
      "execution_count": null,
      "id": "686a1659",
      "metadata": {
        "id": "686a1659",
        "outputId": "2d1b6839-3fd1-4a78-b749-c62c3116f895"
      },
      "outputs": [
        {
          "name": "stderr",
          "output_type": "stream",
          "text": [
            "Clipping input data to the valid range for imshow with RGB data ([0..1] for floats or [0..255] for integers).\n"
          ]
        },
        {
          "data": {
            "text/plain": [
              "<matplotlib.image.AxesImage at 0x7f43e4819b80>"
            ]
          },
          "execution_count": 15,
          "metadata": {},
          "output_type": "execute_result"
        },
        {
          "data": {
            "image/png": "[encoded data removed]",
            "text/plain": [
              "<Figure size 432x288 with 1 Axes>"
            ]
          },
          "metadata": {
            "needs_background": "light"
          },
          "output_type": "display_data"
        }
      ],
      "source": [
        "plt.imshow(np.rollaxis(valid_dataset[0][0].numpy(), 0, 3))"
      ]
    },
    {
      "cell_type": "code",
      "execution_count": null,
      "id": "84d102b2",
      "metadata": {
        "id": "84d102b2"
      },
      "outputs": [],
      "source": []
    }
  ],
  "metadata": {
    "kernelspec": {
      "display_name": "Python 3 (ipykernel)",
      "language": "python",
      "name": "python3"
    },
    "language_info": {
      "codemirror_mode": {
        "name": "ipython",
        "version": 3
      },
      "file_extension": ".py",
      "mimetype": "text/x-python",
      "name": "python",
      "nbconvert_exporter": "python",
      "pygments_lexer": "ipython3",
      "version": "3.8.10"
    },
    "colab": {
      "provenance": [],
      "include_colab_link": true
    }
  },
  "nbformat": 4,
  "nbformat_minor": 5
}